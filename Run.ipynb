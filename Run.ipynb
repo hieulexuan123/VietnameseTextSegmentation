{
 "cells": [
  {
   "cell_type": "code",
   "execution_count": 1,
   "id": "f6b7a11d",
   "metadata": {},
   "outputs": [],
   "source": [
    "import torch\n",
    "from model.data_loader import get_data_loader"
   ]
  },
  {
   "cell_type": "code",
   "execution_count": 2,
   "id": "3d4d40e1",
   "metadata": {},
   "outputs": [],
   "source": [
    "batch_size = 32\n",
    "\n",
    "train_loader = get_data_loader('train', batch_size=batch_size, shuffle=True)\n",
    "val_loader = get_data_loader('val', batch_size=batch_size, shuffle=False)\n",
    "test_loader = get_data_loader('test', batch_size=batch_size, shuffle=False)"
   ]
  },
  {
   "cell_type": "code",
   "execution_count": 3,
   "id": "b54d2635",
   "metadata": {},
   "outputs": [
    {
     "name": "stdout",
     "output_type": "stream",
     "text": [
      "38 5 5\n"
     ]
    }
   ],
   "source": [
    "print(len(train_loader), len(val_loader), len(test_loader))"
   ]
  },
  {
   "cell_type": "code",
   "execution_count": 4,
   "id": "3bfd90a2",
   "metadata": {},
   "outputs": [
    {
     "name": "stdout",
     "output_type": "stream",
     "text": [
      "torch.Size([32, 28, 768]) torch.Size([32, 28]) torch.Size([32, 28])\n",
      "torch.Size([32, 26, 768]) torch.Size([32, 26]) torch.Size([32, 26])\n",
      "torch.Size([32, 30, 768]) torch.Size([32, 30]) torch.Size([32, 30])\n",
      "torch.Size([32, 24, 768]) torch.Size([32, 24]) torch.Size([32, 24])\n",
      "torch.Size([32, 25, 768]) torch.Size([32, 25]) torch.Size([32, 25])\n",
      "torch.Size([32, 27, 768]) torch.Size([32, 27]) torch.Size([32, 27])\n",
      "torch.Size([32, 27, 768]) torch.Size([32, 27]) torch.Size([32, 27])\n",
      "torch.Size([32, 29, 768]) torch.Size([32, 29]) torch.Size([32, 29])\n",
      "torch.Size([32, 29, 768]) torch.Size([32, 29]) torch.Size([32, 29])\n",
      "torch.Size([32, 30, 768]) torch.Size([32, 30]) torch.Size([32, 30])\n",
      "torch.Size([32, 20, 768]) torch.Size([32, 20]) torch.Size([32, 20])\n",
      "torch.Size([32, 33, 768]) torch.Size([32, 33]) torch.Size([32, 33])\n",
      "torch.Size([32, 28, 768]) torch.Size([32, 28]) torch.Size([32, 28])\n",
      "torch.Size([32, 24, 768]) torch.Size([32, 24]) torch.Size([32, 24])\n",
      "torch.Size([32, 30, 768]) torch.Size([32, 30]) torch.Size([32, 30])\n",
      "torch.Size([32, 32, 768]) torch.Size([32, 32]) torch.Size([32, 32])\n",
      "torch.Size([32, 26, 768]) torch.Size([32, 26]) torch.Size([32, 26])\n",
      "torch.Size([32, 24, 768]) torch.Size([32, 24]) torch.Size([32, 24])\n",
      "torch.Size([32, 28, 768]) torch.Size([32, 28]) torch.Size([32, 28])\n",
      "torch.Size([32, 34, 768]) torch.Size([32, 34]) torch.Size([32, 34])\n",
      "torch.Size([32, 23, 768]) torch.Size([32, 23]) torch.Size([32, 23])\n",
      "torch.Size([32, 25, 768]) torch.Size([32, 25]) torch.Size([32, 25])\n",
      "torch.Size([32, 26, 768]) torch.Size([32, 26]) torch.Size([32, 26])\n",
      "torch.Size([32, 27, 768]) torch.Size([32, 27]) torch.Size([32, 27])\n",
      "torch.Size([32, 23, 768]) torch.Size([32, 23]) torch.Size([32, 23])\n",
      "torch.Size([32, 30, 768]) torch.Size([32, 30]) torch.Size([32, 30])\n",
      "torch.Size([32, 24, 768]) torch.Size([32, 24]) torch.Size([32, 24])\n",
      "torch.Size([32, 27, 768]) torch.Size([32, 27]) torch.Size([32, 27])\n",
      "torch.Size([32, 28, 768]) torch.Size([32, 28]) torch.Size([32, 28])\n",
      "torch.Size([32, 32, 768]) torch.Size([32, 32]) torch.Size([32, 32])\n",
      "torch.Size([32, 25, 768]) torch.Size([32, 25]) torch.Size([32, 25])\n",
      "torch.Size([32, 35, 768]) torch.Size([32, 35]) torch.Size([32, 35])\n",
      "torch.Size([32, 26, 768]) torch.Size([32, 26]) torch.Size([32, 26])\n",
      "torch.Size([32, 25, 768]) torch.Size([32, 25]) torch.Size([32, 25])\n",
      "torch.Size([32, 28, 768]) torch.Size([32, 28]) torch.Size([32, 28])\n",
      "torch.Size([32, 28, 768]) torch.Size([32, 28]) torch.Size([32, 28])\n",
      "torch.Size([32, 25, 768]) torch.Size([32, 25]) torch.Size([32, 25])\n",
      "torch.Size([12, 26, 768]) torch.Size([12, 26]) torch.Size([12, 26])\n"
     ]
    }
   ],
   "source": [
    "for embeddings, labels, masks in train_loader:\n",
    "     print(embeddings.size(), labels.size(), masks.size())"
   ]
  },
  {
   "cell_type": "code",
   "execution_count": 7,
   "id": "2c38e0ed",
   "metadata": {},
   "outputs": [],
   "source": [
    "from model.net import LSTM_CRF_Model\n",
    "import torch.optim as optim\n",
    "model = LSTM_CRF_Model(hidden_dim=256, num_layers=3, dropout=0.3)\n",
    "optimizer = optim.Adam(model.parameters(), lr=0.01)"
   ]
  },
  {
   "cell_type": "code",
   "execution_count": 8,
   "id": "85d6c004",
   "metadata": {
    "scrolled": true
   },
   "outputs": [
    {
     "name": "stderr",
     "output_type": "stream",
     "text": [
      "  5%|████▏                                                                              | 1/20 [00:04<01:33,  4.94s/it]"
     ]
    },
    {
     "name": "stdout",
     "output_type": "stream",
     "text": [
      "Epoch 1/20, Training Loss: 276.862302077444, Val loss: 247.55750732421876, Val precision: 0.8613845775561266, Val recall: 0.8309971966359632, Val F1: 0.7899544633511867\n"
     ]
    },
    {
     "name": "stderr",
     "output_type": "stream",
     "text": [
      "\r",
      " 10%|████████▎                                                                          | 2/20 [00:10<01:31,  5.08s/it]"
     ]
    },
    {
     "name": "stdout",
     "output_type": "stream",
     "text": [
      "Epoch 2/20, Training Loss: 242.9876126741108, Val loss: 230.81991882324218, Val precision: 0.8613845775561266, Val recall: 0.8309971966359632, Val F1: 0.7899544633511867\n",
      "saved third_test\n"
     ]
    },
    {
     "name": "stderr",
     "output_type": "stream",
     "text": [
      "\r",
      " 15%|████████████▍                                                                      | 3/20 [00:20<02:05,  7.36s/it]"
     ]
    },
    {
     "name": "stdout",
     "output_type": "stream",
     "text": [
      "Epoch 3/20, Training Loss: 219.4483558253238, Val loss: 210.17968139648437, Val precision: 0.8579015157171657, Val recall: 0.8257909491389668, Val F1: 0.7811914045016088\n"
     ]
    },
    {
     "name": "stderr",
     "output_type": "stream",
     "text": [
      "\r",
      " 20%|████████████████▌                                                                  | 4/20 [00:29<02:07,  7.95s/it]"
     ]
    },
    {
     "name": "stdout",
     "output_type": "stream",
     "text": [
      "Epoch 4/20, Training Loss: 207.16240491365133, Val loss: 196.22665405273438, Val precision: 0.8465546767262604, Val recall: 0.8338005606728074, Val F1: 0.7997882560643188\n",
      "saved third_test\n"
     ]
    },
    {
     "name": "stderr",
     "output_type": "stream",
     "text": [
      "\r",
      " 25%|████████████████████▊                                                              | 5/20 [00:37<02:02,  8.16s/it]"
     ]
    },
    {
     "name": "stdout",
     "output_type": "stream",
     "text": [
      "Epoch 5/20, Training Loss: 201.97581923635383, Val loss: 192.97474365234376, Val precision: 0.8499927135990522, Val recall: 0.8358029635562675, Val F1: 0.802343902629066\n"
     ]
    },
    {
     "name": "stderr",
     "output_type": "stream",
     "text": [
      "\r",
      " 30%|████████████████████████▉                                                          | 6/20 [00:46<01:57,  8.38s/it]"
     ]
    },
    {
     "name": "stdout",
     "output_type": "stream",
     "text": [
      "Epoch 6/20, Training Loss: 196.19210052490234, Val loss: 190.20137939453124, Val precision: 0.8428937549320356, Val recall: 0.8438125750901081, Val F1: 0.8214829429052317\n",
      "saved third_test\n"
     ]
    },
    {
     "name": "stderr",
     "output_type": "stream",
     "text": [
      "\r",
      " 35%|█████████████████████████████                                                      | 7/20 [00:55<01:52,  8.63s/it]"
     ]
    },
    {
     "name": "stdout",
     "output_type": "stream",
     "text": [
      "Epoch 7/20, Training Loss: 193.1126554388749, Val loss: 188.04080200195312, Val precision: 0.8247538265318127, Val recall: 0.8350020024028835, Val F1: 0.8175524991385744\n"
     ]
    },
    {
     "name": "stderr",
     "output_type": "stream",
     "text": [
      "\r",
      " 40%|█████████████████████████████████▏                                                 | 8/20 [01:04<01:45,  8.77s/it]"
     ]
    },
    {
     "name": "stdout",
     "output_type": "stream",
     "text": [
      "Epoch 8/20, Training Loss: 188.73040410092003, Val loss: 188.68603515625, Val precision: 0.8218687514627049, Val recall: 0.8334000800961153, Val F1: 0.8184364786431746\n",
      "saved third_test\n"
     ]
    },
    {
     "name": "stderr",
     "output_type": "stream",
     "text": [
      "\r",
      " 45%|█████████████████████████████████████▎                                             | 9/20 [01:13<01:37,  8.90s/it]"
     ]
    },
    {
     "name": "stdout",
     "output_type": "stream",
     "text": [
      "Epoch 9/20, Training Loss: 187.99872067100122, Val loss: 200.8263366699219, Val precision: 0.8343763343172924, Val recall: 0.8378053664397277, Val F1: 0.8142772122578127\n"
     ]
    },
    {
     "name": "stderr",
     "output_type": "stream",
     "text": [
      "\r",
      " 50%|█████████████████████████████████████████                                         | 10/20 [01:23<01:30,  9.07s/it]"
     ]
    },
    {
     "name": "stdout",
     "output_type": "stream",
     "text": [
      "Epoch 10/20, Training Loss: 185.44209269473427, Val loss: 203.22528991699218, Val precision: 0.8548964974251362, Val recall: 0.8366039247096516, Val F1: 0.8021539133400976\n",
      "saved third_test\n"
     ]
    },
    {
     "name": "stderr",
     "output_type": "stream",
     "text": [
      "\r",
      " 55%|█████████████████████████████████████████████                                     | 11/20 [01:32<01:20,  9.00s/it]"
     ]
    },
    {
     "name": "stdout",
     "output_type": "stream",
     "text": [
      "Epoch 11/20, Training Loss: 183.20484924316406, Val loss: 192.15740661621095, Val precision: 0.8247369268371214, Val recall: 0.8358029635562675, Val F1: 0.823976647352198\n"
     ]
    },
    {
     "name": "stderr",
     "output_type": "stream",
     "text": [
      "\r",
      " 60%|█████████████████████████████████████████████████▏                                | 12/20 [01:41<01:11,  8.99s/it]"
     ]
    },
    {
     "name": "stdout",
     "output_type": "stream",
     "text": [
      "Epoch 12/20, Training Loss: 174.9381298265959, Val loss: 189.15619201660155, Val precision: 0.8199980606064792, Val recall: 0.8313976772126552, Val F1: 0.8209742839173844\n",
      "saved third_test\n"
     ]
    },
    {
     "name": "stderr",
     "output_type": "stream",
     "text": [
      "\r",
      " 65%|█████████████████████████████████████████████████████▎                            | 13/20 [01:49<01:02,  8.94s/it]"
     ]
    },
    {
     "name": "stdout",
     "output_type": "stream",
     "text": [
      "Epoch 13/20, Training Loss: 166.3787428203382, Val loss: 202.15226135253906, Val precision: 0.8349826703320645, Val recall: 0.8386063275931117, Val F1: 0.8156444077474575\n"
     ]
    },
    {
     "name": "stderr",
     "output_type": "stream",
     "text": [
      "\r",
      " 70%|█████████████████████████████████████████████████████████▍                        | 14/20 [01:58<00:52,  8.78s/it]"
     ]
    },
    {
     "name": "stdout",
     "output_type": "stream",
     "text": [
      "Epoch 14/20, Training Loss: 164.7046533885755, Val loss: 187.25617370605468, Val precision: 0.8209855819119504, Val recall: 0.8321986383660392, Val F1: 0.8219828447778316\n",
      "saved third_test\n"
     ]
    },
    {
     "name": "stderr",
     "output_type": "stream",
     "text": [
      "\r",
      " 75%|█████████████████████████████████████████████████████████████▌                    | 15/20 [02:06<00:43,  8.74s/it]"
     ]
    },
    {
     "name": "stdout",
     "output_type": "stream",
     "text": [
      "Epoch 15/20, Training Loss: 154.68915909215025, Val loss: 195.7814178466797, Val precision: 0.8186373300026816, Val recall: 0.8277933520224269, Val F1: 0.8213076433950781\n"
     ]
    },
    {
     "name": "stderr",
     "output_type": "stream",
     "text": [
      "\r",
      " 80%|█████████████████████████████████████████████████████████████████▌                | 16/20 [02:16<00:35,  8.99s/it]"
     ]
    },
    {
     "name": "stdout",
     "output_type": "stream",
     "text": [
      "Epoch 16/20, Training Loss: 147.0009327938682, Val loss: 203.34723510742188, Val precision: 0.8240451872960047, Val recall: 0.8350020024028835, Val F1: 0.8194513170772805\n",
      "saved third_test\n"
     ]
    },
    {
     "name": "stderr",
     "output_type": "stream",
     "text": [
      "\r",
      " 85%|█████████████████████████████████████████████████████████████████████▋            | 17/20 [02:25<00:26,  8.92s/it]"
     ]
    },
    {
     "name": "stdout",
     "output_type": "stream",
     "text": [
      "Epoch 17/20, Training Loss: 140.07145329525596, Val loss: 206.52903747558594, Val precision: 0.8181451380813994, Val recall: 0.8301962354825791, Val F1: 0.8183036599351281\n"
     ]
    },
    {
     "name": "stderr",
     "output_type": "stream",
     "text": [
      "\r",
      " 90%|█████████████████████████████████████████████████████████████████████████▊        | 18/20 [02:33<00:17,  8.82s/it]"
     ]
    },
    {
     "name": "stdout",
     "output_type": "stream",
     "text": [
      "Epoch 18/20, Training Loss: 132.60805290623716, Val loss: 205.7801055908203, Val precision: 0.8087646741665787, Val recall: 0.8177813376051262, Val F1: 0.8118682460597536\n",
      "saved third_test\n"
     ]
    },
    {
     "name": "stderr",
     "output_type": "stream",
     "text": [
      "\r",
      " 95%|█████████████████████████████████████████████████████████████████████████████▉    | 19/20 [02:42<00:08,  8.80s/it]"
     ]
    },
    {
     "name": "stdout",
     "output_type": "stream",
     "text": [
      "Epoch 19/20, Training Loss: 122.36924332066586, Val loss: 204.06685485839844, Val precision: 0.8214108981430966, Val recall: 0.8329995995194233, Val F1: 0.8177244754441415\n"
     ]
    },
    {
     "name": "stderr",
     "output_type": "stream",
     "text": [
      "100%|██████████████████████████████████████████████████████████████████████████████████| 20/20 [02:51<00:00,  8.58s/it]"
     ]
    },
    {
     "name": "stdout",
     "output_type": "stream",
     "text": [
      "Epoch 20/20, Training Loss: 119.60963600560238, Val loss: 227.68589782714844, Val precision: 0.8133391810944558, Val recall: 0.8265919102923508, Val F1: 0.8109216996744353\n",
      "saved third_test\n"
     ]
    },
    {
     "name": "stderr",
     "output_type": "stream",
     "text": [
      "\n"
     ]
    },
    {
     "data": {
      "image/png": "[encoded data removed]",
      "text/plain": [
       "<Figure size 640x480 with 1 Axes>"
      ]
     },
     "metadata": {},
     "output_type": "display_data"
    }
   ],
   "source": [
    "from train_val import *\n",
    "\n",
    "train_and_validate(model, train_loader, val_loader, optimizer, 20, saved_filename=\"third_test\", saved_dir=\"experiments/third_test\")"
   ]
  },
  {
   "cell_type": "code",
   "execution_count": 9,
   "id": "af0b8cb8",
   "metadata": {},
   "outputs": [
    {
     "name": "stdout",
     "output_type": "stream",
     "text": [
      "loading third_test.epoch20\n",
      "epoch 20, train_loss=119.60963600560238, val_loss=227.68589782714844\n"
     ]
    },
    {
     "name": "stderr",
     "output_type": "stream",
     "text": [
      " 10%|████████▎                                                                          | 1/10 [00:04<00:42,  4.72s/it]"
     ]
    },
    {
     "name": "stdout",
     "output_type": "stream",
     "text": [
      "Epoch 21/30, Training Loss: 112.13998694168895, Val loss: 216.2296112060547, Val precision: 0.8069099114794628, Val recall: 0.8165798958750501, Val F1: 0.8101171815995384\n"
     ]
    },
    {
     "name": "stderr",
     "output_type": "stream",
     "text": [
      "\r",
      " 20%|████████████████▌                                                                  | 2/10 [00:09<00:37,  4.68s/it]"
     ]
    },
    {
     "name": "stdout",
     "output_type": "stream",
     "text": [
      "Epoch 22/30, Training Loss: 102.53973659716155, Val loss: 259.91998901367185, Val precision: 0.8174803428248374, Val recall: 0.8297957549058871, Val F1: 0.8134673679187873\n",
      "saved third_test\n"
     ]
    },
    {
     "name": "stderr",
     "output_type": "stream",
     "text": [
      "\r",
      " 30%|████████████████████████▉                                                          | 3/10 [00:18<00:47,  6.78s/it]"
     ]
    },
    {
     "name": "stdout",
     "output_type": "stream",
     "text": [
      "Epoch 23/30, Training Loss: 96.73857337550113, Val loss: 234.66834106445313, Val precision: 0.814588230297212, Val recall: 0.8269923908690429, Val F1: 0.8155523119821385\n"
     ]
    },
    {
     "name": "stderr",
     "output_type": "stream",
     "text": [
      "\r",
      " 40%|█████████████████████████████████▏                                                 | 4/10 [00:28<00:47,  7.84s/it]"
     ]
    },
    {
     "name": "stdout",
     "output_type": "stream",
     "text": [
      "Epoch 24/30, Training Loss: 91.32018510918869, Val loss: 255.89103088378906, Val precision: 0.810397438601349, Val recall: 0.8229875851021226, Val F1: 0.8122940659771144\n",
      "saved third_test\n"
     ]
    },
    {
     "name": "stderr",
     "output_type": "stream",
     "text": [
      "\r",
      " 50%|█████████████████████████████████████████▌                                         | 5/10 [00:37<00:42,  8.47s/it]"
     ]
    },
    {
     "name": "stdout",
     "output_type": "stream",
     "text": [
      "Epoch 25/30, Training Loss: 85.68508268657483, Val loss: 242.95096435546876, Val precision: 0.8085644380199298, Val recall: 0.8193832599118943, Val F1: 0.8116063367752062\n"
     ]
    },
    {
     "name": "stderr",
     "output_type": "stream",
     "text": [
      "\r",
      " 60%|█████████████████████████████████████████████████▊                                 | 6/10 [00:46<00:34,  8.69s/it]"
     ]
    },
    {
     "name": "stdout",
     "output_type": "stream",
     "text": [
      "Epoch 26/30, Training Loss: 78.64611605594033, Val loss: 271.7562225341797, Val precision: 0.8066250042686883, Val recall: 0.8205847016419704, Val F1: 0.8076622878384992\n",
      "saved third_test\n"
     ]
    },
    {
     "name": "stderr",
     "output_type": "stream",
     "text": [
      "\r",
      " 70%|██████████████████████████████████████████████████████████                         | 7/10 [00:55<00:26,  8.79s/it]"
     ]
    },
    {
     "name": "stdout",
     "output_type": "stream",
     "text": [
      "Epoch 27/30, Training Loss: 73.70052377801193, Val loss: 285.166064453125, Val precision: 0.8118412130874395, Val recall: 0.8253904685622747, Val F1: 0.8089339180720735\n"
     ]
    },
    {
     "name": "stderr",
     "output_type": "stream",
     "text": [
      "\r",
      " 80%|██████████████████████████████████████████████████████████████████▍                | 8/10 [01:04<00:17,  8.73s/it]"
     ]
    },
    {
     "name": "stdout",
     "output_type": "stream",
     "text": [
      "Epoch 28/30, Training Loss: 71.29831911388196, Val loss: 281.86748962402345, Val precision: 0.8145732640777172, Val recall: 0.8273928714457349, Val F1: 0.809846299826873\n",
      "saved third_test\n"
     ]
    },
    {
     "name": "stderr",
     "output_type": "stream",
     "text": [
      "\r",
      " 90%|██████████████████████████████████████████████████████████████████████████▋        | 9/10 [01:14<00:09,  9.13s/it]"
     ]
    },
    {
     "name": "stdout",
     "output_type": "stream",
     "text": [
      "Epoch 29/30, Training Loss: 61.61653513657419, Val loss: 289.91929931640624, Val precision: 0.820303577038463, Val recall: 0.8321986383660392, Val F1: 0.8177644577925203\n"
     ]
    },
    {
     "name": "stderr",
     "output_type": "stream",
     "text": [
      "100%|██████████████████████████████████████████████████████████████████████████████████| 10/10 [01:23<00:00,  8.34s/it]"
     ]
    },
    {
     "name": "stdout",
     "output_type": "stream",
     "text": [
      "Epoch 30/30, Training Loss: 59.72247946889777, Val loss: 319.93568115234376, Val precision: 0.8134040623387917, Val recall: 0.8265919102923508, Val F1: 0.8122301141654804\n",
      "saved third_test\n"
     ]
    },
    {
     "name": "stderr",
     "output_type": "stream",
     "text": [
      "\n"
     ]
    },
    {
     "data": {
      "image/png": "[encoded data removed]",
      "text/plain": [
       "<Figure size 640x480 with 1 Axes>"
      ]
     },
     "metadata": {},
     "output_type": "display_data"
    }
   ],
   "source": [
    "train_and_validate(model, train_loader, val_loader, optimizer, 10, \"third_test\", \"experiments/third_test\", \"third_test.epoch20\", \"experiments/third_test\")"
   ]
  },
  {
   "cell_type": "code",
   "execution_count": 10,
   "id": "4b3f377c",
   "metadata": {},
   "outputs": [
    {
     "name": "stdout",
     "output_type": "stream",
     "text": [
      "loading third_test.epoch12\n",
      "epoch 12, train_loss=174.9381298265959, val_loss=189.15619201660155\n"
     ]
    },
    {
     "data": {
      "text/plain": [
       "12"
      ]
     },
     "execution_count": 10,
     "metadata": {},
     "output_type": "execute_result"
    }
   ],
   "source": [
    "model = LSTM_CRF_Model(hidden_dim=256, num_layers=3, dropout=0.3)\n",
    "load_checkpoint(\"third_test.epoch12\", \"experiments/third_test\", model)"
   ]
  },
  {
   "cell_type": "code",
   "execution_count": 11,
   "id": "c29584d7",
   "metadata": {},
   "outputs": [],
   "source": [
    "from sentence_transformers import SentenceTransformer\n",
    "\n",
    "def inference(sentences, model):\n",
    "    sentenceEncoder = SentenceTransformer('bkai-foundation-models/vietnamese-bi-encoder')\n",
    "    embeds = torch.tensor(sentenceEncoder.encode(sentences)).unsqueeze(0)\n",
    "    return model.predict(model(embeds))"
   ]
  },
  {
   "cell_type": "code",
   "execution_count": 12,
   "id": "8d1bb978",
   "metadata": {},
   "outputs": [
    {
     "name": "stdout",
     "output_type": "stream",
     "text": [
      "[[1, 0, 0, 0, 0, 0, 1, 0, 0, 1, 0, 0, 0, 0]]\n"
     ]
    }
   ],
   "source": [
    "sentences =[\n",
    "            \"Sau khi Ngân hàng TMCP Sài Gòn Thương Tín (Sacombank) phát đi thông điệp cứng rắn, tối 10/5 ông Đặng Tất Thắng (Facebooker Thang Dang), cựu Chủ tịch FLC, cựu CEO Bamboo Airways chính thức lên tiếng xin lỗi vì đã xúc phạm Chủ tịch Sacombank Dương Công Minh và HĐQT ngân hàng này.\",\n",
    "            \"Trên trang Facebook cá nhân, ông Đặng Tất Thắng viết lời xin lỗi công khai và khẳng định: Trong kinh doanh, việc xảy ra những mâu thuẫn phát sinh do xung đột lợi ích và quyền lợi của các bên liên quan là khó tránh khỏi.\",\n",
    "            \"Ông Thắng cho rằng đây là vấn đề cá nhân, tuy nhiên vì quá \\\"cảm xúc\\\" nên đã công khai thông tin qua trang cá nhân Facebook và những nhận định này có thể làm ảnh hưởng tới Sacombank và tâm lý các lãnh đạo, cổ đông, khách hàng của ngân hàng này.\",\n",
    "            \"\\\"Tôi xin được công khai xin lỗi trên Facebook với những pháp danh và pháp nhân này. Tôi xin được để post này 72 tiếng và sau đó cũng sẽ tạm dừng việc sử dụng Mạng xã hội Facebook để tập trung cho các dự án của ATB Investment & Partners cùng các cộng sự của tôi\\\", ông Thắng viết.\",\n",
    "            \"Cựu CEO Bamboo Airways cũng bày tỏ mong muốn qua lời xin lỗi này sẽ kết thúc những tranh luận \\\"không đáng có và thiếu căn cứ\\\" trên mạng xã hội mấy ngày vừa qua về sự cố đáng tiếc trên.\",\n",
    "            \"Trước đó, dựa theo một số clip lan truyền trên mạng ghi lại việc cổ đông chất vấn HĐQT Sacombank về việc ngân hàng không chia cổ tức, ông Đặng Tất Thắng đã viết trên trang cá nhân: \\\"Làm ngân hàng dù ở bất cứ đâu trên thế giới này là lãi nhất rồi mà cổ đông không được chia cổ tức trong 7 năm thì đúng Chủ tịch Sacombank là người bất tài.\",\n",
    "            \"Anh này với mình còn là người không có đức,…”\",\n",
    "            \"Mặc dù ông Thắng đã xoá post này, nhưng phía Sacombank cho rằng những lời lẽ trên là hành vi xúc phạm nghiêm trọng đến danh dự, hình ảnh của lãnh đạo Sacombank, làm ảnh hưởng đến uy tín, thương hiệu của ngân hàng.\",\n",
    "            \"Do đó, Sacombank kiến nghị cơ quan chức năng xử lý theo quy định của pháp luật.\",\n",
    "            \"Sacombank cho biết, hoạt động kinh doanh của ngân hàng từ năm 2017 đến nay liên tục có lợi nhuận.\",\n",
    "            \"Lợi nhuận hợp nhất giữ lại lũy kế đến 2022 là 12.672 tỷ đồng.\",\n",
    "            \"Việc Sacombank chưa thực hiện việc chia cổ tức là thực hiện theo quyết định của Ngân hàng Nhà nước đối với một ngân hàng đang trong diện phải tái cơ cấu.\",\n",
    "            \"Hiện, ban lãnh đạo Sacombank đang nỗ lực để sớm hoàn thành Đề án tái cơ cấu ngân hàng theo phê duyệt của Chính phủ và Ngân hàng Nhà nước để đề nghị Ngân hàng Nhà nước sớm chấp thuận chia cổ tức cho cổ đông.\",\n",
    "            \"Mọi khoản lợi nhuận vẫn còn nguyên đó.\"\n",
    "        ]\n",
    "\n",
    "tags = inference(sentences, model)\n",
    "print(tags)"
   ]
  },
  {
   "cell_type": "code",
   "execution_count": 13,
   "id": "4da5ea71",
   "metadata": {},
   "outputs": [
    {
     "name": "stdout",
     "output_type": "stream",
     "text": [
      "[[1, 0, 0, 0, 0, 0, 1, 0, 0]]\n"
     ]
    }
   ],
   "source": [
    "sentences =[\n",
    "            \"Căn cứ phương thức vận hành nguồn, lưới điện trong dịp lễ Quốc khánh 2/9 của các đơn vị thành viên, Tổng công ty Điện lực miền Trung (EVNCPC) dự báo công suất phụ tải cực đại tại 13 tỉnh, thành phố miền Trung - Tây Nguyên ước đạt 2.915MW, tăng 6,5% so với cùng kỳ, với sản lượng ước đạt 63,4 triệu kWh.\",\n",
    "            \"Ông Lê Hoàng Anh Dũng - Phó tổng giám đốc EVNCPC - cho biết để chuẩn bị sẵn sàng phương án đảm bảo cung cấp điện, EVNCPC yêu cầu các đơn vị thành viên tuân thủ chặt chẽ các chỉ đạo của EVN và triển khai công tác chuẩn bị nguồn lưới điện đảm bảo điện trong thời gian nghỉ lễ Quốc khánh.\",\n",
    "            \"Đến nay, các đơn vị đã triển khai thực hiện bố trí phương thức vận hành nguồn, lưới điện hợp lý đảm bảo an toàn, tin cậy trong điều kiện bình thường và linh hoạt chuyển đổi trong tình huống sự cố; ưu tiên đảm bảo điện tại các địa điểm diễn ra các hoạt động chính trị, văn hóa của các địa phương.\",\n",
    "            \"Các đơn vị cũng đã chủ động làm việc với UBND các tỉnh, thành phố trực thuộc trung ương để nắm bắt thời gian, địa điểm tổ chức các sự kiện, đảm bảo cung cấp điện ổn định, đảm bảo thực hiện tốt công tác kinh doanh, dịch vụ khách hàng trong các ngày lễ.\",\n",
    "            \"Các đơn vị tăng cường kiểm tra, phát hiện và xử lý kịp thời các khiếm khuyết của thiết bị nguồn, lưới điện, trạm biến áp 110kV, hệ thống SCADA, đồng thời thực hiện phát quang đảm bảo an toàn hành lang tuyến, tuyên truyền ngăn ngừa các trường hợp thả diều gần đường dây mang điện, các hành vi bắn pháo giấy tráng kim loại và ném các vật lên đường dây vi phạm hành lang an toàn lưới điện…\",\n",
    "            \"Các công ty điện lực tổ chức trực tăng cường đối với lãnh đạo, trực tổ thao tác lưu động, trực vận hành, sửa chữa điện, trực xử lý sự cố hệ thống mạng viễn thông dùng riêng trong các ngày nghỉ lễ; chuẩn bị đầy đủ vật tư, thiết bị dự phòng, nhiên liệu, hệ thống thông tin liên lạc và phương tiện đi lại, sẵn sàng xử lý nhanh các hư hỏng và sự cố.\",\n",
    "            \"Trung tâm Chăm sóc khách hàng Điện lực miền Trung tăng cường lực lượng trực tổng đài 19001909 để tiếp nhận và xử lý tốt các thông tin liên quan đến việc cung cấp điện trên địa bàn, trả lời kịp thời cho khách hàng trong các ngày nghỉ lễ.\",\n",
    "            \"\\\"EVNCPC đã và đang tích cực thực hiện mọi biện pháp để đảm bảo cung cấp điện ổn định và an toàn cho dịp lễ Quốc khánh.\",\n",
    "            \"Chúng tôi cũng khuyến cáo khách hàng sử dụng điện nếu mọi người trong gia đình đều đi du lịch trong kỳ nghỉ dịp Quốc khánh này thì nên chú ý tắt nguồn điện của các thiết bị điện không sử dụng để vừa tránh nguy cơ xảy ra sự cố cháy nổ do chạm chập điện, vừa tránh lãng phí điện năng khi không sử dụng\\\", ông Lê Hoàng Anh Dũng cho hay.\"\n",
    "        ]\n",
    "\n",
    "tags = inference(sentences, model)\n",
    "print(tags)"
   ]
  },
  {
   "cell_type": "code",
   "execution_count": 14,
   "id": "3df15580",
   "metadata": {},
   "outputs": [
    {
     "name": "stdout",
     "output_type": "stream",
     "text": [
      "test_loss = 195.42410583496093, test_precision=0.8117209607029339, test_recall=0.824394119984108, test_f1=0.8144705845207535\n"
     ]
    }
   ],
   "source": [
    "avg_loss, precision, recall, f1 = validate_model(model, test_loader)\n",
    "print(f\"test_loss = {avg_loss}, test_precision={precision}, test_recall={recall}, test_f1={f1}\")"
   ]
  }
 ],
 "metadata": {
  "kernelspec": {
   "display_name": "Python 3 (ipykernel)",
   "language": "python",
   "name": "python3"
  },
  "language_info": {
   "codemirror_mode": {
    "name": "ipython",
    "version": 3
   },
   "file_extension": ".py",
   "mimetype": "text/x-python",
   "name": "python",
   "nbconvert_exporter": "python",
   "pygments_lexer": "ipython3",
   "version": "3.11.2"
  }
 },
 "nbformat": 4,
 "nbformat_minor": 5
}
